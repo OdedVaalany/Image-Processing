{
 "cells": [
  {
   "cell_type": "code",
   "execution_count": 57,
   "metadata": {},
   "outputs": [
    {
     "name": "stdout",
     "output_type": "stream",
     "text": [
      "[[ 2 25]\n",
      " [ 1 32]]\n"
     ]
    },
    {
     "data": {
      "text/plain": [
       "array([[1.41421356, 5.        ],\n",
       "       [1.        , 5.65685425]])"
      ]
     },
     "execution_count": 57,
     "metadata": {},
     "output_type": "execute_result"
    }
   ],
   "source": [
    "import numpy as np\n",
    "x = np.array([[[1,0],[0,1]],[[0,0],[4,4]]])\n",
    "\n",
    "print(np.sum((x[:,np.newaxis,0]-x[:,1])**2,axis=2))\n",
    "np.sqrt(np.sum((x[:, np.newaxis,0]-x[:,1])**2, axis=2))"
   ]
  },
  {
   "cell_type": "markdown",
   "metadata": {},
   "source": []
  },
  {
   "cell_type": "code",
   "execution_count": 58,
   "metadata": {},
   "outputs": [
    {
     "name": "stdout",
     "output_type": "stream",
     "text": [
      "[1.41421356 5.65685425]\n",
      "[0 1]\n"
     ]
    }
   ],
   "source": [
    "np.sqrt(\n",
    "            np.sum((x[:, 0]-x[:,1])**2, axis=1))\n",
    "print(np.sqrt(np.sum((x[:,1]-x[:,0])**2,axis=1)))\n",
    "print(x[0][1])"
   ]
  }
 ],
 "metadata": {
  "kernelspec": {
   "display_name": "IntroToImagePro",
   "language": "python",
   "name": "python3"
  },
  "language_info": {
   "codemirror_mode": {
    "name": "ipython",
    "version": 3
   },
   "file_extension": ".py",
   "mimetype": "text/x-python",
   "name": "python",
   "nbconvert_exporter": "python",
   "pygments_lexer": "ipython3",
   "version": "3.9.18"
  }
 },
 "nbformat": 4,
 "nbformat_minor": 2
}
